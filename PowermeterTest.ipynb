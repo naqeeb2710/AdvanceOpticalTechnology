{
 "cells": [
  {
   "cell_type": "code",
   "execution_count": 228,
   "id": "9308496b",
   "metadata": {},
   "outputs": [],
   "source": [
    "import win32gui\n",
    "import win32com.client\n",
    "import time\n",
    "import traceback\n"
   ]
  },
  {
   "cell_type": "code",
   "execution_count": 229,
   "id": "e1d1fe0c",
   "metadata": {},
   "outputs": [],
   "source": [
    "OphirCOM = win32com.client.Dispatch(\"OphirLMMeasurement.CoLMMeasurement\")\n",
    "# Stop & Close all devices\n",
    "OphirCOM.StopAllStreams() \n",
    "OphirCOM.CloseAll()\n",
    " # Scan for connected Devices\n"
   ]
  },
  {
   "cell_type": "code",
   "execution_count": 230,
   "id": "06264c70",
   "metadata": {},
   "outputs": [
    {
     "name": "stdout",
     "output_type": "stream",
     "text": [
      "('986433',)\n"
     ]
    }
   ],
   "source": [
    "DeviceList = OphirCOM.ScanUSB()\n",
    "print(DeviceList)"
   ]
  },
  {
   "cell_type": "code",
   "execution_count": 231,
   "id": "e4293afb",
   "metadata": {},
   "outputs": [],
   "source": [
    "Device = DeviceList[0]"
   ]
  },
  {
   "cell_type": "code",
   "execution_count": 232,
   "id": "ae6d3e2d",
   "metadata": {},
   "outputs": [],
   "source": [
    "DeviceHandle = OphirCOM.OpenUSBDevice(Device)"
   ]
  },
  {
   "cell_type": "code",
   "execution_count": 233,
   "id": "a67fcff6",
   "metadata": {},
   "outputs": [],
   "source": [
    "sensor = OphirCOM.GetSensorInfo(DeviceHandle, 0)"
   ]
  },
  {
   "cell_type": "code",
   "execution_count": 234,
   "id": "bce75f1f",
   "metadata": {},
   "outputs": [
    {
     "name": "stdout",
     "output_type": "stream",
     "text": [
      "('985510', 'Pyroelectric', 'PD10-C')\n"
     ]
    }
   ],
   "source": [
    "print(sensor)"
   ]
  },
  {
   "cell_type": "code",
   "execution_count": 235,
   "id": "e8ee2508",
   "metadata": {},
   "outputs": [
    {
     "name": "stdout",
     "output_type": "stream",
     "text": [
      "(1, ('Power', 'Energy', 'Exposure'))\n"
     ]
    }
   ],
   "source": [
    "mode = OphirCOM.GetMeasurementMode(DeviceHandle, 0)\n",
    "print(mode)"
   ]
  },
  {
   "cell_type": "code",
   "execution_count": 201,
   "id": "f5ff146f",
   "metadata": {},
   "outputs": [
    {
     "name": "stdout",
     "output_type": "stream",
     "text": [
      "Enter mode: 1\n"
     ]
    }
   ],
   "source": [
    "mode = int(input(\"Enter mode: \"))\n",
    "setMode = OphirCOM.setMeasurementMode(DeviceHandle, 0, mode) #0 for power, 1 for energy, 2 for exposure"
   ]
  },
  {
   "cell_type": "code",
   "execution_count": 217,
   "id": "ae679832",
   "metadata": {},
   "outputs": [
    {
     "name": "stdout",
     "output_type": "stream",
     "text": [
      "(1, ('20.0uJ', '2.00uJ', '200nJ', '20.0nJ'))\n"
     ]
    }
   ],
   "source": [
    "GetRanges = OphirCOM.GetRanges(DeviceHandle, 0)\n",
    "print(GetRanges)"
   ]
  },
  {
   "cell_type": "code",
   "execution_count": 183,
   "id": "dd332f57",
   "metadata": {},
   "outputs": [
    {
     "name": "stdout",
     "output_type": "stream",
     "text": [
      "Entre Ranges: 2\n"
     ]
    }
   ],
   "source": [
    "SetRange = int(input(\"Entre Ranges: \"))\n",
    "Ranges = OphirCOM.SetRange(DeviceHandle, 0, Rangess)"
   ]
  },
  {
   "cell_type": "code",
   "execution_count": 218,
   "id": "3860d830",
   "metadata": {},
   "outputs": [
    {
     "name": "stdout",
     "output_type": "stream",
     "text": [
      "(2, ('640', '248', '355', '532', '905', '1064'))\n"
     ]
    }
   ],
   "source": [
    "getWaveLength = OphirCOM.GetWavelengths(DeviceHandle, 0)\n",
    "print(getWaveLength)"
   ]
  },
  {
   "cell_type": "code",
   "execution_count": 186,
   "id": "f62aff61",
   "metadata": {},
   "outputs": [
    {
     "name": "stdout",
     "output_type": "stream",
     "text": [
      "Enter WaveLength: 2\n"
     ]
    }
   ],
   "source": [
    "wavelength = int(input(\"Enter WaveLength: \"))\n",
    "setWaveLength = OphirCOM.setWavelength(DeviceHandle, 0, wavelength)\n"
   ]
  },
  {
   "cell_type": "code",
   "execution_count": 219,
   "id": "679aa43e",
   "metadata": {},
   "outputs": [
    {
     "name": "stdout",
     "output_type": "stream",
     "text": [
      "(-1, ())\n"
     ]
    }
   ],
   "source": [
    "trig = OphirCOM.GetExtTrigOnOff(DeviceHandle, 0)\n",
    "print(trig)"
   ]
  },
  {
   "cell_type": "code",
   "execution_count": 239,
   "id": "a7fe76e3",
   "metadata": {},
   "outputs": [
    {
     "name": "stdout",
     "output_type": "stream",
     "text": [
      "None\n"
     ]
    }
   ],
   "source": [
    "OphirCOM.ConfigureStreamMode(DeviceHandle, 0,0,0)\n",
    "dataMode = OphirCOM.ConfigureStreamMode(DeviceHandle, 0,2,1)\n",
    "print(dataMode)"
   ]
  },
  {
   "cell_type": "code",
   "execution_count": 221,
   "id": "37af0a7d",
   "metadata": {},
   "outputs": [],
   "source": [
    "OphirCOM.StartStream(DeviceHandle, 0)"
   ]
  },
  {
   "cell_type": "code",
   "execution_count": 245,
   "id": "96d1e956",
   "metadata": {},
   "outputs": [
    {
     "name": "stdout",
     "output_type": "stream",
     "text": [
      "((), (), ())\n"
     ]
    }
   ],
   "source": [
    "Data = OphirCOM.GetData(DeviceHandle,0)\n",
    "print(Data)"
   ]
  },
  {
   "cell_type": "code",
   "execution_count": 223,
   "id": "de946b8f",
   "metadata": {},
   "outputs": [
    {
     "name": "stdout",
     "output_type": "stream",
     "text": [
      "[]\n"
     ]
    }
   ],
   "source": [
    "events: list[(float, float)] = []\n",
    "for i in range(0, len(Data[0]), 2):\n",
    "    events.append((Data[1][i] - Data[1][0], Data[0][i]))\n",
    "# print(events)\n",
    "# Save the data to a CSV file\n",
    "csv_filename = 'power_data.csv'\n",
    "with open(csv_filename, 'w', newline='') as csvfile:\n",
    "    csv_writer = csv.writer(csvfile)\n",
    "    csv_writer.writerow(['Power'])  # Write header\n",
    "    csv_writer.writerows(events)"
   ]
  },
  {
   "cell_type": "code",
   "execution_count": 225,
   "id": "dc64ff36",
   "metadata": {},
   "outputs": [],
   "source": [
    "if OphirCOM is not None:\n",
    "    OphirCOM.StopAllStreams()\n",
    "    OphirCOM.CloseAll()\n",
    "    OphirCOM = None"
   ]
  },
  {
   "cell_type": "code",
   "execution_count": null,
   "id": "9a2c7f71",
   "metadata": {},
   "outputs": [],
   "source": []
  }
 ],
 "metadata": {
  "kernelspec": {
   "display_name": "Python 3 (ipykernel)",
   "language": "python",
   "name": "python3"
  },
  "language_info": {
   "codemirror_mode": {
    "name": "ipython",
    "version": 3
   },
   "file_extension": ".py",
   "mimetype": "text/x-python",
   "name": "python",
   "nbconvert_exporter": "python",
   "pygments_lexer": "ipython3",
   "version": "3.10.4"
  }
 },
 "nbformat": 4,
 "nbformat_minor": 5
}
