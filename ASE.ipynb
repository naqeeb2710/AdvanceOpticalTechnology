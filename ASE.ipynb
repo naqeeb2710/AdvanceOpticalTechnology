{
 "cells": [
  {
   "cell_type": "code",
   "execution_count": 1,
   "metadata": {},
   "outputs": [],
   "source": [
    "import os\n",
    "import time\n",
    "import numpy as np\n",
    "import matplotlib.pyplot as plt\n",
    "\n",
    "from seabreeze.spectrometers import list_devices, Spectrometer\n",
    "from pylablib.devices import Thorlabs\n",
    "\n"
   ]
  },
  {
   "cell_type": "code",
   "execution_count": 2,
   "metadata": {},
   "outputs": [
    {
     "name": "stdout",
     "output_type": "stream",
     "text": [
      "Available devices: [('55357574', 'Kinesis K10CR1 Rotary Stage')]\n"
     ]
    }
   ],
   "source": [
    "available_devices = Thorlabs.list_kinesis_devices()\n",
    "if available_devices:\n",
    "    print(\"Available devices:\", available_devices)\n",
    "else:\n",
    "    print(\"No devices found.\")\n"
   ]
  },
  {
   "cell_type": "code",
   "execution_count": 5,
   "metadata": {},
   "outputs": [],
   "source": [
    "ans=Thorlabs.list_kinesis_devices()\n",
    "if ans:\n",
    "    stage = Thorlabs.KinesisMotor(ans[0][0])\n",
    "    stage.get_device_info()\n",
    "    devices = list_devices()\n",
    "else:\n",
    "    print(\"The 'ans' list is empty.\")"
   ]
  },
  {
   "cell_type": "code",
   "execution_count": 6,
   "metadata": {},
   "outputs": [
    {
     "data": {
      "text/plain": [
       "<bound method ICommBackendWrapper.close of <pylablib.devices.Thorlabs.kinesis.KinesisMotor object at 0x00000183D93CC430>>"
      ]
     },
     "execution_count": 6,
     "metadata": {},
     "output_type": "execute_result"
    }
   ],
   "source": [
    "#First need to home the filter wheel\n",
    "#must increase the speed otherwise it takes forever\n",
    "# stage.connect() \n",
    "stage.setup_homing(velocity=-500000)\n",
    "stage.home()\n",
    "stage.wait_move()\n",
    "stage.close"
   ]
  },
  {
   "cell_type": "code",
   "execution_count": 7,
   "metadata": {},
   "outputs": [
    {
     "name": "stdout",
     "output_type": "stream",
     "text": [
      "Available devices: [<SeaBreezeDevice HR4000:HR4C222>]\n"
     ]
    }
   ],
   "source": [
    "devices = list_devices()\n",
    "if devices:\n",
    "    print(\"Available devices:\", devices)\n",
    "else:\n",
    "    print(\"No devices available.\")\n"
   ]
  },
  {
   "cell_type": "code",
   "execution_count": 8,
   "metadata": {},
   "outputs": [],
   "source": [
    "spec = Spectrometer(devices[0])\n",
    "spec.integration_time_micros(1e5)"
   ]
  },
  {
   "cell_type": "code",
   "execution_count": 9,
   "metadata": {},
   "outputs": [
    {
     "data": {
      "text/plain": [
       "[<matplotlib.lines.Line2D at 0x183fbbb2c80>]"
      ]
     },
     "execution_count": 9,
     "metadata": {},
     "output_type": "execute_result"
    },
    {
     "data": {
      "image/png": "[encoded data removed]",
      "text/plain": [
       "<Figure size 432x288 with 1 Axes>"
      ]
     },
     "metadata": {
      "needs_background": "light"
     },
     "output_type": "display_data"
    }
   ],
   "source": [
    "fig = plt.figure()\n",
    "ax = fig.add_subplot(111)\n",
    "wavelengths = spec.wavelengths()\n",
    "intensities= spec.intensities()\n",
    "ax.plot(wavelengths,intensities)"
   ]
  },
  {
   "cell_type": "code",
   "execution_count": 10,
   "metadata": {},
   "outputs": [],
   "source": [
    "stage.move_to(0)\n",
    "locations = np.linspace(0,-5000000,num=3)\n",
    "for mm in range(len(locations)):\n",
    "    stage.move_to(locations[mm])\n",
    "    stage.wait_move()\n",
    "    time.sleep(0.5)\n",
    "    #careful the backlash from the motor, need settling time\n",
    "    wavelengths = spec.wavelengths()\n",
    "    intensities= spec.intensities()    \n",
    "    #plott.set_xdata(wavelengths)\n",
    "    #plott.set_ydata(intensities)\n",
    "    ax.plot(wavelengths,intensities)\n",
    "    fig.canvas.draw()\n",
    "    fig.canvas.flush_events()\n",
    "    time.sleep(1.0)"
   ]
  },
  {
   "cell_type": "code",
   "execution_count": null,
   "metadata": {},
   "outputs": [],
   "source": []
  }
 ],
 "metadata": {
  "kernelspec": {
   "display_name": "Python 3 (ipykernel)",
   "language": "python",
   "name": "python3"
  },
  "language_info": {
   "codemirror_mode": {
    "name": "ipython",
    "version": 3
   },
   "file_extension": ".py",
   "mimetype": "text/x-python",
   "name": "python",
   "nbconvert_exporter": "python",
   "pygments_lexer": "ipython3",
   "version": "3.10.4"
  }
 },
 "nbformat": 4,
 "nbformat_minor": 2
}
