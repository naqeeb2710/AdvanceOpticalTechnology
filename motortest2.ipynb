{
 "cells": [
  {
   "cell_type": "code",
   "execution_count": 1,
   "id": "11f75a7c",
   "metadata": {},
   "outputs": [],
   "source": [
    "import time\n",
    "import os\n",
    "import sys\n",
    "from ctypes import *"
   ]
  },
  {
   "cell_type": "code",
   "execution_count": 6,
   "id": "95e99788",
   "metadata": {},
   "outputs": [],
   "source": [
    "if sys.version_info < (3, 8):\n",
    "    os.chdir(r\"C:\\Program Files\\Thorlabs\\Kinesis\")\n",
    "else:\n",
    "    os.add_dll_directory(r\"C:\\Program Files\\Thorlabs\\Kinesis\")\n",
    "\n",
    "lib: CDLL = cdll.LoadLibrary(\"Thorlabs.MotionControl.KCube.DCServo.dll\")\n",
    "\n",
    "    # Uncomment this line if you are using simulations\n",
    "    #lib.TLI_InitializeSimulations()\n",
    "\n",
    "    # Set constants\n",
    "serial_num = c_char_p(b\"55357574\")"
   ]
  },
  {
   "cell_type": "code",
   "execution_count": 11,
   "id": "aaee4c71",
   "metadata": {},
   "outputs": [
    {
     "name": "stdout",
     "output_type": "stream",
     "text": [
      "Position after homing: 1200.0\n",
      "10.0 in Device Units: 1365330\n"
     ]
    }
   ],
   "source": [
    "    # Open the device\n",
    "if lib.TLI_BuildDeviceList() == 0:\n",
    "        lib.CC_Open(serial_num)\n",
    "        lib.CC_StartPolling(serial_num, c_int(200))\n",
    "\n",
    "            # Home the device\n",
    "        lib.CC_Home(serial_num)\n",
    "        time.sleep(1)\n",
    "\n",
    "            # Set up the device to convert real units to device units\n",
    "        STEPS_PER_REV = c_double(136533)  # for the PRM1-Z8\n",
    "        gbox_ratio = c_double(1)  # gearbox ratio\n",
    "        pitch = c_double(1.0)\n",
    "\n",
    "            # Apply these values to the device\n",
    "        lib.CC_SetMotorParamsExt(serial_num, STEPS_PER_REV, gbox_ratio, pitch)\n",
    "\n",
    "            # Get the device's current position in dev units\n",
    "        lib.CC_RequestPosition(serial_num)\n",
    "        time.sleep(0.2)\n",
    "        dev_pos = c_int(lib.CC_GetPosition(serial_num))\n",
    "\n",
    "            # Convert device units to real units\n",
    "        real_pos = c_double()\n",
    "        lib.CC_GetRealValueFromDeviceUnit(serial_num,\n",
    "                                            dev_pos,\n",
    "                                            byref(real_pos),\n",
    "                                            0)\n",
    "\n",
    "        print(f'Position after homing: {real_pos.value}')\n",
    "\n",
    "            # set a new position in device units\n",
    "        new_pos_real = c_double(10.0)  # in real units\n",
    "        new_pos_dev = c_int()\n",
    "        lib.CC_GetDeviceUnitFromRealValue(serial_num,\n",
    "                                            new_pos_real,\n",
    "                                            byref(new_pos_dev),\n",
    "                                            0)\n",
    "\n",
    "        print(f'{new_pos_real.value} in Device Units: {new_pos_dev.value}')\n",
    "\n",
    "            # Move to new position as an absolute move.\n",
    "        lib.CC_SetMoveAbsolutePosition(serial_num, new_pos_dev)\n",
    "        time.sleep(0.25)\n",
    "        lib.CC_MoveAbsolute(serial_num)\n",
    "\n",
    "            # Close the device\n",
    "        lib.CC_Close(serial_num)\n",
    "    #lib.TLI_UninitializeSimulations()\n"
   ]
  },
  {
   "cell_type": "code",
   "execution_count": null,
   "id": "81bd8791",
   "metadata": {},
   "outputs": [],
   "source": []
  }
 ],
 "metadata": {
  "kernelspec": {
   "display_name": "Python 3 (ipykernel)",
   "language": "python",
   "name": "python3"
  },
  "language_info": {
   "codemirror_mode": {
    "name": "ipython",
    "version": 3
   },
   "file_extension": ".py",
   "mimetype": "text/x-python",
   "name": "python",
   "nbconvert_exporter": "python",
   "pygments_lexer": "ipython3",
   "version": "3.10.4"
  }
 },
 "nbformat": 4,
 "nbformat_minor": 5
}
