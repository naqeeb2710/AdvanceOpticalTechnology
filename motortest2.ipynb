{
 "cells": [
  {
   "cell_type": "code",
   "execution_count": 1,
   "id": "11f75a7c",
   "metadata": {},
   "outputs": [],
   "source": [
    "import time\n",
    "import os\n",
    "import sys\n",
    "from ctypes import *\n"
   ]
  },
  {
   "cell_type": "code",
   "execution_count": 2,
   "id": "95e99788",
   "metadata": {},
   "outputs": [
    {
     "data": {
      "text/plain": [
       "2"
      ]
     },
     "execution_count": 2,
     "metadata": {},
     "output_type": "execute_result"
    }
   ],
   "source": [
    "if sys.version_info < (3, 8):\n",
    "    os.chdir(r\"C:\\Program Files\\Thorlabs\\Kinesis\")\n",
    "else:\n",
    "    os.add_dll_directory(r\"C:\\Program Files\\Thorlabs\\Kinesis\")\n",
    "\n",
    "lib: CDLL = cdll.LoadLibrary(\"Thorlabs.MotionControl.KCube.DCServo.dll\")\n",
    "\n",
    "    # Uncomment this line if you are using simulations\n",
    "    #lib.TLI_InitializeSimulations()\n",
    "\n",
    "    # Set constants\n",
    "serial_num = c_char_p(b\"55357574\")\n",
    "\n",
    "STEPS_PER_REV = c_double(136533)  # for the K10CR1\n",
    "gbox_ratio = c_double(1.0)  # gearbox ratio\n",
    "pitch = c_double(1.0)\n",
    "lib.CC_SetMoveAbsolutePosition(serial_num, c_double(0.0))\n",
    "\n",
    "# Apply these values to the device\n",
    "lib.CC_SetMotorParamsExt(serial_num, STEPS_PER_REV, gbox_ratio, pitch)\n",
    "\n",
    "\n"
   ]
  },
  {
   "cell_type": "code",
   "execution_count": 24,
   "id": "83fd36dc",
   "metadata": {},
   "outputs": [
    {
     "name": "stdout",
     "output_type": "stream",
     "text": [
      "0\n"
     ]
    }
   ],
   "source": [
    "# Open the Device to move to zero and set it home\n",
    "if lib.TLI_BuildDeviceList() == 0:\n",
    "        lib.CC_Open(serial_num)\n",
    "        lib.CC_StartPolling(serial_num, c_int(200))\n",
    "\n",
    "        # lib.CC_MoveToPosition(serial_num,45*136533)\n",
    "        # lib.CC_SetHomingVelocity(serial_num,7329109*50)\n",
    "        # lib.CC_MoveAtVelocity(serial_num,7329109*140) // Not working\n",
    "        # lib.CC_SetVelParamsBlock(serial_num,7329109*100) #VELOCITY Not working\n",
    "       \n",
    "    \n",
    "        # lib.CC_Home(serial_num)\n",
    "        # time.sleep(0.25)\n",
    "\n",
    "        # Close the device\n",
    "        print(lib.CC_GetStatusBits(serial_num))\n",
    "        lib.CC_StopPolling(serial_num)\n",
    "        # lib.CC_RequestStatusBits(serial_num)\n",
    "        # time.sleep(2)\n",
    "        \n",
    "        lib.CC_Close(serial_num)\n",
    "    \n"
   ]
  },
  {
   "cell_type": "code",
   "execution_count": 6,
   "id": "e726fde2",
   "metadata": {},
   "outputs": [
    {
     "name": "stdout",
     "output_type": "stream",
     "text": [
      "1\n"
     ]
    }
   ],
   "source": [
    "# Open the Device to move to position\n",
    "if lib.TLI_BuildDeviceList() == 0:\n",
    "        lib.CC_Open(serial_num)\n",
    "        lib.CC_StartPolling(serial_num, c_int(200))\n",
    "        \n",
    "        # v=lib.CC_GetVelParamsBlock(serial_num)\n",
    "        lib.CC_MoveToPosition(serial_num,50*136533)\n",
    "        lib.CC_SetHomingVelocity(serial_num,7329109*25)\n",
    "        # lib.CC_RequestStatusBits(serial_num)\n",
    "        # time.sleep(0.25)\n",
    "        # print(lib.CC_GetStatusBits(serial_num))\n",
    "        CC_CanHome = lib.CC_CanHome(serial_num)\n",
    "        print(CC_CanHome)\n",
    "        \n",
    "        lib.CC_Home(serial_num)\n",
    "        time.sleep(0.25)\n",
    "\n",
    "        # lib.CC_MoveAbsolute(serial_num)\n",
    "        # lib.CC_Home(serial_num)\n",
    "\n",
    "        # Close the device\n",
    "        lib.CC_Close(serial_num)\n",
    "    \n"
   ]
  },
  {
   "cell_type": "code",
   "execution_count": 9,
   "id": "a2d9bd47",
   "metadata": {},
   "outputs": [
    {
     "name": "stdout",
     "output_type": "stream",
     "text": [
      "-1958759680\n",
      "1\n",
      "-1958759680\n",
      "1\n",
      "-1958759680\n",
      "1\n",
      "-1958759680\n",
      "1\n",
      "-1958759680\n",
      "1\n",
      "-1958759680\n",
      "1\n",
      "-1958759680\n",
      "1\n"
     ]
    }
   ],
   "source": [
    "initial_angle = 0\n",
    "final_angle = 300\n",
    "step_size = 50\n",
    "\n",
    "\n",
    "    \n",
    "for angle in range(initial_angle, final_angle + step_size, step_size):\n",
    "    if lib.TLI_BuildDeviceList() == 0:\n",
    "        CC_NeedsHoming = lib.CC_NeedsHoming(serial_num)\n",
    "        print(CC_NeedsHoming)\n",
    "        lib.CC_Open(serial_num)\n",
    "        lib.CC_StartPolling(serial_num, c_int(200))    \n",
    "        lib.CC_MoveToPosition(serial_num, angle * 136533)\n",
    "        lib.CC_SetHomingVelocity(serial_num, 7329109 * 50)\n",
    "        CC_CanHome = lib.CC_CanHome(serial_num)\n",
    "        print(CC_CanHome)\n",
    "        time.sleep(5)\n",
    "\n",
    "        lib.CC_Close(serial_num)\n"
   ]
  },
  {
   "cell_type": "code",
   "execution_count": 61,
   "id": "aaee4c71",
   "metadata": {},
   "outputs": [],
   "source": [
    "### JOG MOVE\n",
    "if lib.TLI_BuildDeviceList() == 0:\n",
    "        lib.CC_Open(serial_num)\n",
    "        lib.CC_StartPolling(serial_num, c_int(200))\n",
    "        \n",
    "        # v=lib.CC_GetVelParamsBlock(serial_num)\n",
    "        # print(\"heyP\"+str(v))\n",
    "        lib.CC_MoveRelative(serial_num, 30*136533)  #JOG MOVE\n",
    "        lib.CC_SetHomingVelocity(serial_num,7329109*40)\n",
    "        time.sleep(0.25)\n",
    "\n",
    "        # lib.CC_MoveAbsolute(serial_num)\n",
    "        # Close the device\n",
    "        lib.CC_StopPolling(serial_num)\n",
    "\n",
    "        lib.CC_Close(serial_num)\n",
    "    \n"
   ]
  },
  {
   "cell_type": "code",
   "execution_count": 48,
   "id": "31153ef6",
   "metadata": {},
   "outputs": [
    {
     "name": "stdout",
     "output_type": "stream",
     "text": [
      "Device %s homing\n",
      " c_char_p(2268040946816)\n",
      "0\n",
      "Device %s moving to position\n",
      " c_char_p(2268040946816)\n"
     ]
    }
   ],
   "source": [
    "### JOG MOVE\n",
    "if lib.TLI_BuildDeviceList() == 0:\n",
    "        lib.CC_Open(serial_num)\n",
    "        lib.CC_StartPolling(serial_num, c_int(200))\n",
    "\n",
    "       \n",
    "        lib.CC_ClearMessageQueue(serial_num)\n",
    "        lib.CC_Home(serial_num)\n",
    "        print(\"Device %s homing\\r\\n\", serial_num)\n",
    "        time.sleep(1)\n",
    "        \n",
    "        lib.CC_ClearMessageQueue(serial_num)\n",
    "        lib.CC_MoveRelative(serial_num, 40*136533)  #JOG MOVE\n",
    "        lib.CC_SetHomingVelocity(serial_num,7329109*50)\n",
    "        print(lib.CC_RequestPosition(serial_num))\n",
    "        print(\"Device %s moving to position\\r\\n\", serial_num)\n",
    "\n",
    "        lib.CC_StopPolling(serial_num)\n",
    "\n",
    "        time.sleep(0.25)\n",
    "\n",
    "        lib.CC_Close(serial_num)\n",
    "    \n"
   ]
  },
  {
   "cell_type": "code",
   "execution_count": 27,
   "id": "535f2558",
   "metadata": {},
   "outputs": [
    {
     "name": "stdout",
     "output_type": "stream",
     "text": [
      "heyP0\n"
     ]
    }
   ],
   "source": [
    "# Open the Device to move \n",
    "if lib.TLI_BuildDeviceList() == 0:\n",
    "        lib.CC_Open(serial_num)\n",
    "        lib.CC_StartPolling(serial_num, c_int(200))\n",
    "\n",
    "        \n",
    "        # lib.CC_Home(serial_num)\n",
    "        # time.sleep(1)\n",
    "        \n",
    "        # v=lib.CC_GetVelParamsBlock(serial_num)\n",
    "        lib.CC_MoveToPosition(serial_num,0)\n",
    "        # lib.CC_MoveAtVelocity(serial_num,7329109*140)\n",
    "        # lib.CC_SetVelParamsBlock(serial_num,7329109*100) #VELOCITY Not working\n",
    "        vel=lib.CC_GetVelParamsBlock(serial_num)\n",
    "        print(\"heyP\"+str(vel))\n",
    "        # time.sleep(0.25)\n",
    "        lib.CC_Home(serial_num)\n",
    "        time.sleep(0.25)\n",
    "\n",
    "        # lib.CC_MoveAbsolute(serial_num)\n",
    "        # lib.CC_Home(serial_num)\n",
    "\n",
    "        # Close the device\n",
    "        lib.CC_Close(serial_num)\n",
    "    \n"
   ]
  },
  {
   "cell_type": "code",
   "execution_count": 55,
   "id": "c2f7df01",
   "metadata": {},
   "outputs": [
    {
     "name": "stdout",
     "output_type": "stream",
     "text": [
      "335.04352793830066\n",
      "c_long(45744498)\n"
     ]
    }
   ],
   "source": [
    "if lib.TLI_BuildDeviceList() == 0:\n",
    "        lib.CC_Open(serial_num)\n",
    "        lib.CC_StartPolling(serial_num, c_int(100))\n",
    "        lib.CC_MoveToPosition(serial_num, 0*136533)\n",
    "        delay = (10/10)+1\n",
    "        time.sleep(delay)\n",
    "        lib.CC_RequestPosition(serial_num)\n",
    "        time.sleep(0.05)\n",
    "        print(lib.CC_GetPosition(serial_num)/136533)\n",
    "        print(c_int(lib.CC_GetPosition(serial_num)))\n",
    "\n",
    "     \n",
    "        time.sleep(1)\n",
    "\n",
    "        # lib.CC_MoveAbsolute(serial_num,0)\n",
    "        lib.CC_Close(serial_num)\n"
   ]
  },
  {
   "cell_type": "code",
   "execution_count": null,
   "id": "be50752b",
   "metadata": {},
   "outputs": [],
   "source": []
  }
 ],
 "metadata": {
  "kernelspec": {
   "display_name": "Python 3 (ipykernel)",
   "language": "python",
   "name": "python3"
  },
  "language_info": {
   "codemirror_mode": {
    "name": "ipython",
    "version": 3
   },
   "file_extension": ".py",
   "mimetype": "text/x-python",
   "name": "python",
   "nbconvert_exporter": "python",
   "pygments_lexer": "ipython3",
   "version": "3.10.4"
  }
 },
 "nbformat": 4,
 "nbformat_minor": 5
}
