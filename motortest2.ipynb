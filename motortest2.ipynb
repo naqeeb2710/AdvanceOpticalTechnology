{
 "cells": [
  {
   "cell_type": "code",
   "execution_count": 1,
   "id": "11f75a7c",
   "metadata": {},
   "outputs": [],
   "source": [
    "import time\n",
    "import os\n",
    "import sys\n",
    "from ctypes import *"
   ]
  },
  {
   "cell_type": "code",
   "execution_count": 2,
   "id": "95e99788",
   "metadata": {},
   "outputs": [],
   "source": [
    "if sys.version_info < (3, 8):\n",
    "    os.chdir(r\"C:\\Program Files\\Thorlabs\\Kinesis\")\n",
    "else:\n",
    "    os.add_dll_directory(r\"C:\\Program Files\\Thorlabs\\Kinesis\")\n",
    "\n",
    "lib: CDLL = cdll.LoadLibrary(\"Thorlabs.MotionControl.KCube.DCServo.dll\")\n",
    "\n",
    "    # Uncomment this line if you are using simulations\n",
    "    #lib.TLI_InitializeSimulations()\n",
    "\n",
    "    # Set constants\n",
    "serial_num = c_char_p(b\"55357574\")"
   ]
  },
  {
   "cell_type": "code",
   "execution_count": 5,
   "id": "aaee4c71",
   "metadata": {},
   "outputs": [
    {
     "data": {
      "text/plain": [
       "2"
      ]
     },
     "execution_count": 5,
     "metadata": {},
     "output_type": "execute_result"
    }
   ],
   "source": [
    "lib.CC_Home(serial_num)\n"
   ]
  },
  {
   "cell_type": "code",
   "execution_count": 4,
   "id": "a02293ce",
   "metadata": {},
   "outputs": [
    {
     "data": {
      "text/plain": [
       "2"
      ]
     },
     "execution_count": 4,
     "metadata": {},
     "output_type": "execute_result"
    }
   ],
   "source": [
    "lib.CC_SetMoveAbsolutePosition(serial_num, 5)"
   ]
  },
  {
   "cell_type": "code",
   "execution_count": 9,
   "id": "ece5af6f",
   "metadata": {},
   "outputs": [
    {
     "data": {
      "text/plain": [
       "2"
      ]
     },
     "execution_count": 9,
     "metadata": {},
     "output_type": "execute_result"
    }
   ],
   "source": [
    "lib.CC_RequestPosition(serial_num)"
   ]
  },
  {
   "cell_type": "code",
   "execution_count": null,
   "id": "81bd8791",
   "metadata": {},
   "outputs": [],
   "source": []
  }
 ],
 "metadata": {
  "kernelspec": {
   "display_name": "Python 3 (ipykernel)",
   "language": "python",
   "name": "python3"
  },
  "language_info": {
   "codemirror_mode": {
    "name": "ipython",
    "version": 3
   },
   "file_extension": ".py",
   "mimetype": "text/x-python",
   "name": "python",
   "nbconvert_exporter": "python",
   "pygments_lexer": "ipython3",
   "version": "3.10.4"
  }
 },
 "nbformat": 4,
 "nbformat_minor": 5
}
