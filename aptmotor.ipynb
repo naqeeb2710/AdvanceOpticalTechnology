{
 "cells": [
  {
   "cell_type": "code",
   "execution_count": 1,
   "metadata": {},
   "outputs": [],
   "source": [
    "import time\n",
    "import os\n",
    "import sys\n",
    "import ctypes\n",
    "from ctypes import *\n",
    "from typing import List, Optional, Tuple, Union\n",
    "import enum"
   ]
  },
  {
   "cell_type": "code",
   "execution_count": 2,
   "metadata": {},
   "outputs": [
    {
     "data": {
      "text/plain": [
       "0"
      ]
     },
     "execution_count": 2,
     "metadata": {},
     "output_type": "execute_result"
    }
   ],
   "source": [
    "_dll_path = 'C:\\\\Program Files\\\\Thorlabs\\\\APT\\\\APT Server\\\\APT.dll'\n",
    "dll = ctypes.CDLL(_dll_path)\n",
    "dll.APTInit()\n",
    "# c_serial_number = ctypes.c_long(55357574)\n",
    "# print(c_serial_number)"
   ]
  },
  {
   "cell_type": "code",
   "execution_count": 9,
   "metadata": {},
   "outputs": [],
   "source": [
    "\n",
    "class ThorlabsHWType(enum.Enum):\n",
    "    PRM1Z8 = 31\n",
    "    MFF10x = 48\n",
    "    K10CR1 = 50\n",
    "\n",
    "\n",
    "def list_available_devices( hw_type: Union[int, ThorlabsHWType, None] = None) \\\n",
    "        -> List[Tuple[int, int, int]]:\n",
    "        \"\"\"Lists all available Thorlabs devices, that can connect to the APT server.\n",
    "\n",
    "        Args:\n",
    "            hw_type: If this parameter is passed, the function only searches for a certain device\n",
    "                     model. Otherwise (if the parameter is None), it searches for all Thorlabs\n",
    "                     devices.\n",
    "\n",
    "        Returns:\n",
    "            A list of tuples. Each list-element is a tuple of 3 ints, containing the device's\n",
    "            hardware type, device id and serial number: [(hw type id, device id, serial), ...]\n",
    "        \"\"\"\n",
    "        devices = []\n",
    "        count = ctypes.c_long()\n",
    "\n",
    "        if hw_type is not None:\n",
    "            # Only search for devices of the passed hardware type (model)\n",
    "            if isinstance(hw_type, ThorlabsHWType):\n",
    "                hw_type_range = [hw_type.value]\n",
    "            else:\n",
    "                hw_type_range = [int(hw_type)]\n",
    "        else:\n",
    "            # Search for all models\n",
    "            hw_type_range = list(range(100))\n",
    "\n",
    "        for hw_type_id in hw_type_range:\n",
    "            # Get number of devices of the specific hardware type\n",
    "            if dll.GetNumHWUnitsEx(hw_type_id, ctypes.byref(count)) == 0 and count.value > 0:\n",
    "                # Is there any device of the specified hardware type\n",
    "                serial_number = ctypes.c_long()\n",
    "                # Get the serial numbers of all devices of that hardware type\n",
    "                for ii in range(count.value):\n",
    "                    if dll.GetHWSerialNumEx(hw_type_id, ii, ctypes.byref(serial_number)) == 0:\n",
    "                        devices.append((hw_type_id, ii, serial_number.value))\n",
    "\n",
    "        return devices\n",
    "\n",
    "list_available_devices()"
   ]
  },
  {
   "cell_type": "code",
   "execution_count": 3,
   "metadata": {},
   "outputs": [
    {
     "name": "stdout",
     "output_type": "stream",
     "text": [
      "c_long(55357574)\n",
      "worked\n",
      "worked2\n",
      "c_long(55357574)\n"
     ]
    }
   ],
   "source": [
    "c_serial_number = ctypes.c_long(55357574)\n",
    "print(c_serial_number)\n",
    "dll.EnableEventDlg(True)\n",
    "print(\"worked\")\n",
    "dll.InitHWDevice(c_serial_number)\n",
    "print(\"worked2\")\n",
    "c_position = ctypes.c_long()\n",
    "print(c_serial_number)\n"
   ]
  },
  {
   "cell_type": "code",
   "execution_count": 4,
   "metadata": {},
   "outputs": [
    {
     "ename": "",
     "evalue": "",
     "output_type": "error",
     "traceback": [
      "\u001b[1;31mThe Kernel crashed while executing code in the current cell or a previous cell. \n",
      "\u001b[1;31mPlease review the code in the cell(s) to identify a possible cause of the failure. \n",
      "\u001b[1;31mClick <a href='https://aka.ms/vscodeJupyterKernelCrash'>here</a> for more info. \n",
      "\u001b[1;31mView Jupyter <a href='command:jupyter.viewOutput'>log</a> for further details."
     ]
    }
   ],
   "source": [
    "print(dll.GetHWInfo(c_serial_number))\n",
    "print(dll.MOT_GetPosition(c_serial_number, ctypes.byref(c_position)))\n",
    "print(\"worked3\")"
   ]
  },
  {
   "cell_type": "code",
   "execution_count": null,
   "metadata": {},
   "outputs": [],
   "source": []
  }
 ],
 "metadata": {
  "kernelspec": {
   "display_name": "Python 3",
   "language": "python",
   "name": "python3"
  },
  "language_info": {
   "codemirror_mode": {
    "name": "ipython",
    "version": 3
   },
   "file_extension": ".py",
   "mimetype": "text/x-python",
   "name": "python",
   "nbconvert_exporter": "python",
   "pygments_lexer": "ipython3",
   "version": "3.10.4"
  }
 },
 "nbformat": 4,
 "nbformat_minor": 2
}
