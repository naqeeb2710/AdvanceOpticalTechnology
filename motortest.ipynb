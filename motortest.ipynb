{
 "cells": [
  {
   "cell_type": "code",
   "execution_count": 1,
   "metadata": {},
   "outputs": [],
   "source": [
    "from pylablib.devices import Thorlabs\n",
    "\n"
   ]
  },
  {
   "cell_type": "code",
   "execution_count": 2,
   "metadata": {},
   "outputs": [],
   "source": [
    "import time\n",
    "import numpy as np"
   ]
  },
  {
   "cell_type": "code",
   "execution_count": 19,
   "metadata": {},
   "outputs": [
    {
     "data": {
      "text/plain": [
       "[('55357574', 'Kinesis K10CR1 Rotary Stage')]"
      ]
     },
     "execution_count": 19,
     "metadata": {},
     "output_type": "execute_result"
    }
   ],
   "source": [
    "Thorlabs.list_kinesis_devices()"
   ]
  },
  {
   "cell_type": "code",
   "execution_count": 20,
   "metadata": {},
   "outputs": [],
   "source": [
    "stage = Thorlabs.KinesisMotor(\"55357574\")"
   ]
  },
  {
   "cell_type": "code",
   "execution_count": 21,
   "metadata": {},
   "outputs": [],
   "source": [
    "stage.setup_homing(velocity=7329109)\n",
    "stage.wait_move()"
   ]
  },
  {
   "cell_type": "code",
   "execution_count": 18,
   "metadata": {},
   "outputs": [
    {
     "ename": "ThorlabsBackendError",
     "evalue": "backend exception: D2XXException(1) ('Invalid Handle')",
     "output_type": "error",
     "traceback": [
      "\u001b[1;31m---------------------------------------------------------------------------\u001b[0m",
      "\u001b[1;31mD2XXException\u001b[0m                             Traceback (most recent call last)",
      "File \u001b[1;32mc:\\Users\\naqee\\AppData\\Local\\Programs\\Python\\Python310\\lib\\site-packages\\pylablib\\core\\devio\\comm_backend.py:34\u001b[0m, in \u001b[0;36mreraise.<locals>.wrapped\u001b[1;34m(self, *args, **kwargs)\u001b[0m\n\u001b[0;32m     33\u001b[0m \u001b[38;5;28;01mtry\u001b[39;00m:\n\u001b[1;32m---> 34\u001b[0m     \u001b[38;5;28;01mreturn\u001b[39;00m func(\u001b[38;5;28mself\u001b[39m,\u001b[38;5;241m*\u001b[39margs,\u001b[38;5;241m*\u001b[39m\u001b[38;5;241m*\u001b[39mkwargs)\n\u001b[0;32m     35\u001b[0m \u001b[38;5;28;01mexcept\u001b[39;00m \u001b[38;5;28mself\u001b[39m\u001b[38;5;241m.\u001b[39mBackendError \u001b[38;5;28;01mas\u001b[39;00m exc:\n",
      "File \u001b[1;32mc:\\Users\\naqee\\AppData\\Local\\Programs\\Python\\Python310\\lib\\site-packages\\pylablib\\core\\devio\\comm_backend.py:962\u001b[0m, in \u001b[0;36mFT232DeviceBackend.write\u001b[1;34m(self, data, flush, read_echo, read_echo_delay, read_echo_lines)\u001b[0m\n\u001b[0;32m    961\u001b[0m     data\u001b[38;5;241m=\u001b[39mdata\u001b[38;5;241m+\u001b[39mpy3\u001b[38;5;241m.\u001b[39mas_builtin_bytes(\u001b[38;5;28mself\u001b[39m\u001b[38;5;241m.\u001b[39mterm_write)\n\u001b[1;32m--> 962\u001b[0m \u001b[38;5;28;43mself\u001b[39;49m\u001b[38;5;241;43m.\u001b[39;49m\u001b[43minstr\u001b[49m\u001b[38;5;241;43m.\u001b[39;49m\u001b[43mwrite\u001b[49m\u001b[43m(\u001b[49m\u001b[43mdata\u001b[49m\u001b[43m)\u001b[49m\n\u001b[0;32m    963\u001b[0m \u001b[38;5;28mself\u001b[39m\u001b[38;5;241m.\u001b[39mcooldown(\u001b[38;5;124m\"\u001b[39m\u001b[38;5;124mwrite\u001b[39m\u001b[38;5;124m\"\u001b[39m)\n",
      "File \u001b[1;32mc:\\Users\\naqee\\AppData\\Local\\Programs\\Python\\Python310\\lib\\site-packages\\ft232\\d2xx.py:372\u001b[0m, in \u001b[0;36mD2xx.write\u001b[1;34m(self, s)\u001b[0m\n\u001b[0;32m    371\u001b[0m status \u001b[38;5;241m=\u001b[39m d2xx\u001b[38;5;241m.\u001b[39mFT_Write(\u001b[38;5;28mself\u001b[39m\u001b[38;5;241m.\u001b[39mhandle, buf, \u001b[38;5;28mlen\u001b[39m(s), c\u001b[38;5;241m.\u001b[39mbyref(written))\n\u001b[1;32m--> 372\u001b[0m \u001b[38;5;28;01mif\u001b[39;00m status \u001b[38;5;241m!=\u001b[39m FT_OK: \u001b[38;5;28;01mraise\u001b[39;00m D2XXException(status)\n\u001b[0;32m    373\u001b[0m \u001b[38;5;28;01mreturn\u001b[39;00m written\u001b[38;5;241m.\u001b[39mvalue\n",
      "\u001b[1;31mD2XXException\u001b[0m: Invalid Handle",
      "\nThe above exception was the direct cause of the following exception:\n",
      "\u001b[1;31mThorlabsBackendError\u001b[0m                      Traceback (most recent call last)",
      "Cell \u001b[1;32mIn[18], line 1\u001b[0m\n\u001b[1;32m----> 1\u001b[0m \u001b[43mstage\u001b[49m\u001b[38;5;241;43m.\u001b[39;49m\u001b[43mmove_to\u001b[49m\u001b[43m(\u001b[49m\u001b[38;5;241;43m136533\u001b[39;49m\u001b[38;5;241;43m*\u001b[39;49m\u001b[38;5;241;43m45\u001b[39;49m\u001b[43m)\u001b[49m\n\u001b[0;32m      2\u001b[0m stage\u001b[38;5;241m.\u001b[39mwait_move()\n\u001b[0;32m      3\u001b[0m \u001b[38;5;66;03m# stage.move_to(0)\u001b[39;00m\n",
      "File \u001b[1;32mc:\\Users\\naqee\\AppData\\Local\\Programs\\Python\\Python310\\lib\\site-packages\\pylablib\\core\\utils\\general.py:1107\u001b[0m, in \u001b[0;36mmuxcall.<locals>.wrapper.<locals>.wrapped\u001b[1;34m(*args, **kwargs)\u001b[0m\n\u001b[0;32m   1105\u001b[0m \u001b[38;5;28;01melse\u001b[39;00m:\n\u001b[0;32m   1106\u001b[0m     all_args[argname]\u001b[38;5;241m=\u001b[39mmarg\n\u001b[1;32m-> 1107\u001b[0m     res\u001b[38;5;241m=\u001b[39mfunc(\u001b[38;5;241m*\u001b[39m\u001b[38;5;241m*\u001b[39mall_args)\n\u001b[0;32m   1108\u001b[0m \u001b[38;5;28;01mreturn\u001b[39;00m res\n",
      "File \u001b[1;32mc:\\Users\\naqee\\AppData\\Local\\Programs\\Python\\Python310\\lib\\site-packages\\pylablib\\devices\\Thorlabs\\kinesis.py:470\u001b[0m, in \u001b[0;36mKinesisDevice._move_to\u001b[1;34m(self, position, channel, scale)\u001b[0m\n\u001b[0;32m    464\u001b[0m \u001b[38;5;129m@muxchannel\u001b[39m(mux_argnames\u001b[38;5;241m=\u001b[39m\u001b[38;5;124m\"\u001b[39m\u001b[38;5;124mposition\u001b[39m\u001b[38;5;124m\"\u001b[39m)\n\u001b[0;32m    465\u001b[0m \u001b[38;5;28;01mdef\u001b[39;00m \u001b[38;5;21m_move_to\u001b[39m(\u001b[38;5;28mself\u001b[39m, position, channel\u001b[38;5;241m=\u001b[39m\u001b[38;5;28;01mNone\u001b[39;00m, scale\u001b[38;5;241m=\u001b[39m\u001b[38;5;28;01mTrue\u001b[39;00m):\n\u001b[0;32m    466\u001b[0m     \u001b[38;5;124;03m\"\"\"Move to `position` (positive or negative).\u001b[39;00m\n\u001b[0;32m    467\u001b[0m \u001b[38;5;124;03m    \u001b[39;00m\n\u001b[0;32m    468\u001b[0m \u001b[38;5;124;03m    If ``scale==True``, assume that the position is in the physical units (see class description); otherwise, assume it is in the device internal units (steps).\u001b[39;00m\n\u001b[0;32m    469\u001b[0m \u001b[38;5;124;03m    \"\"\"\u001b[39;00m\n\u001b[1;32m--> 470\u001b[0m     \u001b[38;5;28;43mself\u001b[39;49m\u001b[38;5;241;43m.\u001b[39;49m\u001b[43msend_comm_data\u001b[49m\u001b[43m(\u001b[49m\u001b[38;5;241;43m0x0453\u001b[39;49m\u001b[43m,\u001b[49m\u001b[43mstruct\u001b[49m\u001b[38;5;241;43m.\u001b[39;49m\u001b[43mpack\u001b[49m\u001b[43m(\u001b[49m\u001b[38;5;124;43m\"\u001b[39;49m\u001b[38;5;124;43m<Hi\u001b[39;49m\u001b[38;5;124;43m\"\u001b[39;49m\u001b[43m,\u001b[49m\u001b[38;5;28;43mself\u001b[39;49m\u001b[38;5;241;43m.\u001b[39;49m\u001b[43m_make_channel\u001b[49m\u001b[43m(\u001b[49m\u001b[43mchannel\u001b[49m\u001b[43m)\u001b[49m\u001b[43m,\u001b[49m\u001b[38;5;28;43mself\u001b[39;49m\u001b[38;5;241;43m.\u001b[39;49m\u001b[43m_p2d\u001b[49m\u001b[43m(\u001b[49m\u001b[43mposition\u001b[49m\u001b[43m,\u001b[49m\u001b[38;5;124;43m\"\u001b[39;49m\u001b[38;5;124;43mp\u001b[39;49m\u001b[38;5;124;43m\"\u001b[39;49m\u001b[43m,\u001b[49m\u001b[43mscale\u001b[49m\u001b[38;5;241;43m=\u001b[39;49m\u001b[43mscale\u001b[49m\u001b[43m)\u001b[49m\u001b[43m)\u001b[49m\u001b[43m,\u001b[49m\u001b[43mdest\u001b[49m\u001b[38;5;241;43m=\u001b[39;49m\u001b[43m(\u001b[49m\u001b[38;5;124;43m\"\u001b[39;49m\u001b[38;5;124;43mchannel\u001b[39;49m\u001b[38;5;124;43m\"\u001b[39;49m\u001b[43m,\u001b[49m\u001b[43mchannel\u001b[49m\u001b[43m)\u001b[49m\u001b[43m)\u001b[49m\n",
      "File \u001b[1;32mc:\\Users\\naqee\\AppData\\Local\\Programs\\Python\\Python310\\lib\\site-packages\\pylablib\\devices\\Thorlabs\\kinesis.py:120\u001b[0m, in \u001b[0;36mBasicKinesisDevice.send_comm_data\u001b[1;34m(self, messageID, data, source, dest)\u001b[0m\n\u001b[0;32m    114\u001b[0m \u001b[38;5;124;03m\"\"\"\u001b[39;00m\n\u001b[0;32m    115\u001b[0m \u001b[38;5;124;03mSend a message with associated data.\u001b[39;00m\n\u001b[0;32m    116\u001b[0m \n\u001b[0;32m    117\u001b[0m \u001b[38;5;124;03mFor details, see APT communications protocol.\u001b[39;00m\n\u001b[0;32m    118\u001b[0m \u001b[38;5;124;03m\"\"\"\u001b[39;00m\n\u001b[0;32m    119\u001b[0m msg\u001b[38;5;241m=\u001b[39mstruct\u001b[38;5;241m.\u001b[39mpack(\u001b[38;5;124m\"\u001b[39m\u001b[38;5;124m<HHBB\u001b[39m\u001b[38;5;124m\"\u001b[39m,messageID,\u001b[38;5;28mlen\u001b[39m(data),\u001b[38;5;28mself\u001b[39m\u001b[38;5;241m.\u001b[39m_make_dest(dest)\u001b[38;5;241m|\u001b[39m\u001b[38;5;241m0x80\u001b[39m,source)\n\u001b[1;32m--> 120\u001b[0m \u001b[38;5;28;43mself\u001b[39;49m\u001b[38;5;241;43m.\u001b[39;49m\u001b[43minstr\u001b[49m\u001b[38;5;241;43m.\u001b[39;49m\u001b[43mwrite\u001b[49m\u001b[43m(\u001b[49m\u001b[43mmsg\u001b[49m\u001b[38;5;241;43m+\u001b[39;49m\u001b[43mdata\u001b[49m\u001b[43m)\u001b[49m\n",
      "File \u001b[1;32mc:\\Users\\naqee\\AppData\\Local\\Programs\\Python\\Python310\\lib\\site-packages\\pylablib\\core\\devio\\comm_backend.py:45\u001b[0m, in \u001b[0;36mlogerror.<locals>.wrapped\u001b[1;34m(self, *args, **kwargs)\u001b[0m\n\u001b[0;32m     42\u001b[0m \u001b[38;5;129m@functools\u001b[39m\u001b[38;5;241m.\u001b[39mwraps(func)\n\u001b[0;32m     43\u001b[0m \u001b[38;5;28;01mdef\u001b[39;00m \u001b[38;5;21mwrapped\u001b[39m(\u001b[38;5;28mself\u001b[39m, \u001b[38;5;241m*\u001b[39margs, \u001b[38;5;241m*\u001b[39m\u001b[38;5;241m*\u001b[39mkwargs):\n\u001b[0;32m     44\u001b[0m     \u001b[38;5;28;01mtry\u001b[39;00m:\n\u001b[1;32m---> 45\u001b[0m         \u001b[38;5;28;01mreturn\u001b[39;00m func(\u001b[38;5;28mself\u001b[39m,\u001b[38;5;241m*\u001b[39margs,\u001b[38;5;241m*\u001b[39m\u001b[38;5;241m*\u001b[39mkwargs)\n\u001b[0;32m     46\u001b[0m     \u001b[38;5;28;01mexcept\u001b[39;00m \u001b[38;5;28mself\u001b[39m\u001b[38;5;241m.\u001b[39mError \u001b[38;5;28;01mas\u001b[39;00m exc:\n\u001b[0;32m     47\u001b[0m         \u001b[38;5;28mself\u001b[39m\u001b[38;5;241m.\u001b[39m_log(\u001b[38;5;124m\"\u001b[39m\u001b[38;5;124merror\u001b[39m\u001b[38;5;124m\"\u001b[39m,\u001b[38;5;28mstr\u001b[39m(exc))\n",
      "File \u001b[1;32mc:\\Users\\naqee\\AppData\\Local\\Programs\\Python\\Python310\\lib\\site-packages\\pylablib\\core\\devio\\comm_backend.py:37\u001b[0m, in \u001b[0;36mreraise.<locals>.wrapped\u001b[1;34m(self, *args, **kwargs)\u001b[0m\n\u001b[0;32m     35\u001b[0m \u001b[38;5;28;01mexcept\u001b[39;00m \u001b[38;5;28mself\u001b[39m\u001b[38;5;241m.\u001b[39mBackendError \u001b[38;5;28;01mas\u001b[39;00m exc:\n\u001b[0;32m     36\u001b[0m     ReraiseError\u001b[38;5;241m=\u001b[39m\u001b[38;5;28mgetattr\u001b[39m(\u001b[38;5;28mself\u001b[39m,\u001b[38;5;124m\"\u001b[39m\u001b[38;5;124mReraiseError\u001b[39m\u001b[38;5;124m\"\u001b[39m,\u001b[38;5;28mself\u001b[39m\u001b[38;5;241m.\u001b[39mError)\n\u001b[1;32m---> 37\u001b[0m     \u001b[38;5;28;01mraise\u001b[39;00m ReraiseError(exc) \u001b[38;5;28;01mfrom\u001b[39;00m \u001b[38;5;21;01mexc\u001b[39;00m\n",
      "\u001b[1;31mThorlabsBackendError\u001b[0m: backend exception: D2XXException(1) ('Invalid Handle')"
     ]
    }
   ],
   "source": [
    "stage.move_to(136533*45)\n",
    "stage.wait_move()\n",
    "stage.setup_homing(velocity=7329109)"
   ]
  },
  {
   "cell_type": "code",
   "execution_count": 7,
   "metadata": {},
   "outputs": [
    {
     "data": {
      "text/plain": [
       "0"
      ]
     },
     "execution_count": 7,
     "metadata": {},
     "output_type": "execute_result"
    }
   ],
   "source": [
    "time.sleep(1)\n",
    "stage.move_to(0)\n",
    "stage.wait_move()\n",
    "stage.is_opened()"
   ]
  },
  {
   "cell_type": "code",
   "execution_count": 15,
   "metadata": {},
   "outputs": [
    {
     "data": {
      "text/plain": [
       "True"
      ]
     },
     "execution_count": 15,
     "metadata": {},
     "output_type": "execute_result"
    }
   ],
   "source": [
    "stage.is_homed()"
   ]
  },
  {
   "cell_type": "code",
   "execution_count": 16,
   "metadata": {},
   "outputs": [],
   "source": [
    "stage.wait_for_home()"
   ]
  },
  {
   "cell_type": "code",
   "execution_count": 17,
   "metadata": {},
   "outputs": [],
   "source": [
    "stage.close()"
   ]
  },
  {
   "cell_type": "code",
   "execution_count": null,
   "metadata": {},
   "outputs": [],
   "source": []
  },
  {
   "cell_type": "code",
   "execution_count": null,
   "metadata": {},
   "outputs": [],
   "source": []
  }
 ],
 "metadata": {
  "kernelspec": {
   "display_name": "Python 3 (ipykernel)",
   "language": "python",
   "name": "python3"
  },
  "language_info": {
   "codemirror_mode": {
    "name": "ipython",
    "version": 3
   },
   "file_extension": ".py",
   "mimetype": "text/x-python",
   "name": "python",
   "nbconvert_exporter": "python",
   "pygments_lexer": "ipython3",
   "version": "3.10.4"
  }
 },
 "nbformat": 4,
 "nbformat_minor": 2
}
