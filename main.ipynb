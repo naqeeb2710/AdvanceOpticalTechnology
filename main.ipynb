{
 "cells": [
  {
   "cell_type": "code",
   "execution_count": 8,
   "id": "031af6e4",
   "metadata": {},
   "outputs": [],
   "source": [
    "from qcodes_contrib_drivers.drivers.Thorlabs.APT import Thorlabs_APT\n",
    "import numpy as np\n",
    "import matplotlib.pyplot as plt\n",
    "from seabreeze.spectrometers import list_devices, Spectrometer\n",
    "import time\n",
    "\n",
    "apt = Thorlabs_APT()"
   ]
  },
  {
   "cell_type": "code",
   "execution_count": 2,
   "id": "d181dc42",
   "metadata": {},
   "outputs": [
    {
     "name": "stdout",
     "output_type": "stream",
     "text": [
      "Connected to: Thorlabs K10CR1 (serial:55357574, firmware:SW Version 1.0.3) in 0.00s\n"
     ]
    }
   ],
   "source": [
    "from qcodes_contrib_drivers.drivers.Thorlabs.K10CR1 import Thorlabs_K10CR1\n",
    "\n",
    "inst = Thorlabs_K10CR1(\"K10CR1\", 0, apt)"
   ]
  },
  {
   "cell_type": "code",
   "execution_count": 3,
   "id": "23309713",
   "metadata": {},
   "outputs": [
    {
     "name": "stdout",
     "output_type": "stream",
     "text": [
      "Available devices: [<SeaBreezeDevice HR4000:HR4C222>]\n"
     ]
    }
   ],
   "source": [
    "devices = list_devices()\n",
    "if devices:\n",
    "    print(\"Available devices:\", devices)\n",
    "else:\n",
    "    print(\"No devices available.\")"
   ]
  },
  {
   "cell_type": "code",
   "execution_count": 4,
   "id": "a04c250b",
   "metadata": {},
   "outputs": [
    {
     "name": "stdout",
     "output_type": "stream",
     "text": [
      "Position: 0.0\n"
     ]
    }
   ],
   "source": [
    "# Move to zero and recalibrate\n",
    "inst.move_home()\n",
    "\n",
    "# Read position\n",
    "print(\"Position:\", inst.position())"
   ]
  },
  {
   "cell_type": "code",
   "execution_count": 5,
   "id": "c3e7ed8d",
   "metadata": {},
   "outputs": [],
   "source": [
    "spec = Spectrometer(devices[0])\n",
    "spec.integration_time_micros(1e5)"
   ]
  },
  {
   "cell_type": "markdown",
   "id": "b8ea169d",
   "metadata": {},
   "source": [
    "# Without Accumulation."
   ]
  },
  {
   "cell_type": "code",
   "execution_count": 7,
   "id": "e1d87657",
   "metadata": {},
   "outputs": [
    {
     "name": "stdout",
     "output_type": "stream",
     "text": [
      "Position: 155.0\n"
     ]
    },
    {
     "ename": "NameError",
     "evalue": "name 'time' is not defined",
     "output_type": "error",
     "traceback": [
      "\u001b[1;31m---------------------------------------------------------------------------\u001b[0m",
      "\u001b[1;31mNameError\u001b[0m                                 Traceback (most recent call last)",
      "Cell \u001b[1;32mIn[7], line 8\u001b[0m\n\u001b[0;32m      6\u001b[0m \u001b[38;5;66;03m# Read position\u001b[39;00m\n\u001b[0;32m      7\u001b[0m \u001b[38;5;28mprint\u001b[39m(\u001b[38;5;124m\"\u001b[39m\u001b[38;5;124mPosition:\u001b[39m\u001b[38;5;124m\"\u001b[39m, inst\u001b[38;5;241m.\u001b[39mposition())\n\u001b[1;32m----> 8\u001b[0m \u001b[43mtime\u001b[49m\u001b[38;5;241m.\u001b[39msleep(\u001b[38;5;241m0.5\u001b[39m)\n\u001b[0;32m      9\u001b[0m \u001b[38;5;66;03m#careful the backlash from the motor, need settling tim\u001b[39;00m\n\u001b[0;32m     11\u001b[0m fig \u001b[38;5;241m=\u001b[39m plt\u001b[38;5;241m.\u001b[39mfigure()\n",
      "\u001b[1;31mNameError\u001b[0m: name 'time' is not defined"
     ]
    }
   ],
   "source": [
    "# Set target velocity to 10 deg/s\n",
    "inst.velocity_max(10)\n",
    "\n",
    "# Move to specific angle and wait until it's finished\n",
    "inst.position(155)\n",
    "# Read position\n",
    "print(\"Position:\", inst.position())\n",
    "time.sleep(0.5)\n",
    "#careful the backlash from the motor, need settling tim\n",
    "\n",
    "fig = plt.figure()\n",
    "ax = fig.add_subplot(111)\n",
    "wavelengths = spec.wavelengths()\n",
    "print(wavelengths)\n",
    "intensities= spec.intensities()\n",
    "print(intensities)\n",
    "ax.plot(wavelengths,intensities)\n",
    "\n",
    "# Label the x and y axes\n",
    "ax.set_xlabel('Wavelength (nm)')\n",
    "ax.set_ylabel('Intensity (nm)')\n",
    "time.sleep(1.0)"
   ]
  },
  {
   "cell_type": "markdown",
   "id": "9e87b8f9",
   "metadata": {},
   "source": [
    "# With Accumulation"
   ]
  },
  {
   "cell_type": "code",
   "execution_count": 30,
   "id": "db7f2500",
   "metadata": {},
   "outputs": [
    {
     "name": "stdout",
     "output_type": "stream",
     "text": [
      "Position: 155.0\n"
     ]
    },
    {
     "data": {
      "image/png": "[encoded data removed]",
      "text/plain": [
       "<Figure size 432x288 with 1 Axes>"
      ]
     },
     "metadata": {
      "needs_background": "light"
     },
     "output_type": "display_data"
    }
   ],
   "source": [
    "# Set target velocity to 10 deg/s\n",
    "inst.velocity_max(10)\n",
    "\n",
    "# Move to specific angle and wait until it's finished\n",
    "inst.position(155)\n",
    "# Read position\n",
    "print(\"Position:\", inst.position())\n",
    "time.sleep(0.5)\n",
    "#careful the backlash from the motor, need settling tim\n",
    "\n",
    "fig = plt.figure()\n",
    "ax = fig.add_subplot(111)\n",
    "\n",
    "# Define the number of accumulations\n",
    "num_accumulations = 5  \n",
    "\n",
    "# Initialize lists to store wavelengths and intensities\n",
    "wavelengths = []\n",
    "intensity_sum = np.zeros(len(spec.wavelengths()))  # Initialize intensity_sum with zeros\n",
    "\n",
    "# Perform accumulation\n",
    "for _ in range(num_accumulations):\n",
    "    # Get wavelengths and intensities from your data (assuming they are in nanometers)\n",
    "    current_wavelengths = spec.wavelengths()\n",
    "    current_intensities = spec.intensities()\n",
    "    \n",
    "    \n",
    "    # Accumulate intensities\n",
    "    intensity_sum += current_intensities\n",
    "\n",
    "# Calculate the average intensity\n",
    "average_intensity = intensity_sum / num_accumulations\n",
    "\n",
    "# Plot the average accumulation\n",
    "ax.plot(current_wavelengths, average_intensity)\n",
    "\n",
    "# Label the x and y axes\n",
    "ax.set_xlabel('Wavelength (nm)')\n",
    "ax.set_ylabel('Intensity (nm)')\n",
    "time.sleep(1.0)"
   ]
  },
  {
   "cell_type": "code",
   "execution_count": null,
   "id": "13d0937d",
   "metadata": {},
   "outputs": [
    {
     "name": "stdout",
     "output_type": "stream",
     "text": [
      "Position: 155.0 degrees\n",
      "Position: 165.0 degrees\n",
      "Position: 175.00001525878906 degrees\n"
     ]
    }
   ],
   "source": [
    "# Define the initial angle, step size, and final angle\n",
    "initial_angle = 155# Initial angle in degrees\n",
    "step_size = 10     # Step size in degrees\n",
    "final_angle = 205 #Final angle in degrees\n",
    "\n",
    "# Set the time delay (in seconds)\n",
    "delay_seconds = 5\n",
    "\n",
    "# Set target velocity to 10 deg/s\n",
    "inst.velocity_max(10)\n",
    "\n",
    "# Loop to move the position\n",
    "for angle in range(initial_angle, final_angle + step_size, step_size):\n",
    "    # Move to the current angle and wait until it's finished\n",
    "    inst.position(angle)\n",
    "    \n",
    "    # Read and print the current position\n",
    "    current_position = inst.position()\n",
    "    print(f\"Position: {current_position} degrees\")\n",
    "    \n",
    "    # Add a 3-second delay\n",
    "    time.sleep(delay_seconds)  # Pause the execution for 3 seconds\n",
    "\n",
    "# Ensure that the final angle is reached\n",
    "inst.position(final_angle)\n",
    "\n",
    "# Read and print the final position\n",
    "final_position = inst.position()\n",
    "print(f\"Final Position: {final_position} degrees\")\n"
   ]
  },
  {
   "cell_type": "code",
   "execution_count": null,
   "id": "ff8a480e",
   "metadata": {},
   "outputs": [],
   "source": []
  }
 ],
 "metadata": {
  "kernelspec": {
   "display_name": "Python 3 (ipykernel)",
   "language": "python",
   "name": "python3"
  },
  "language_info": {
   "codemirror_mode": {
    "name": "ipython",
    "version": 3
   },
   "file_extension": ".py",
   "mimetype": "text/x-python",
   "name": "python",
   "nbconvert_exporter": "python",
   "pygments_lexer": "ipython3",
   "version": "3.10.4"
  }
 },
 "nbformat": 4,
 "nbformat_minor": 5
}
