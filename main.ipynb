{
 "cells": [
  {
   "cell_type": "code",
   "execution_count": 1,
   "id": "031af6e4",
   "metadata": {},
   "outputs": [],
   "source": [
    "from qcodes_contrib_drivers.drivers.Thorlabs.APT import Thorlabs_APT\n",
    "import numpy as np\n",
    "import matplotlib.pyplot as plt\n",
    "from seabreeze.spectrometers import list_devices, Spectrometer\n",
    "import time\n",
    "import csv\n",
    "import os\n",
    "\n",
    "apt = Thorlabs_APT()"
   ]
  },
  {
   "cell_type": "code",
   "execution_count": 2,
   "id": "d181dc42",
   "metadata": {},
   "outputs": [
    {
     "name": "stdout",
     "output_type": "stream",
     "text": [
      "Connected to: Thorlabs K10CR1 (serial:55357574, firmware:SW Version 1.0.3) in 0.00s\n"
     ]
    }
   ],
   "source": [
    "from qcodes_contrib_drivers.drivers.Thorlabs.K10CR1 import Thorlabs_K10CR1\n",
    "\n",
    "inst = Thorlabs_K10CR1(\"K10CR1\", 0, apt)"
   ]
  },
  {
   "cell_type": "code",
   "execution_count": 3,
   "id": "23309713",
   "metadata": {},
   "outputs": [
    {
     "name": "stdout",
     "output_type": "stream",
     "text": [
      "Available devices: [<SeaBreezeDevice HR4000:HR4C222>]\n"
     ]
    }
   ],
   "source": [
    "devices = list_devices()\n",
    "if devices:\n",
    "    print(\"Available devices:\", devices)\n",
    "else:\n",
    "    print(\"No devices available.\")\n",
    "spec = Spectrometer(devices[0])"
   ]
  },
  {
   "cell_type": "code",
   "execution_count": 4,
   "id": "a04c250b",
   "metadata": {},
   "outputs": [
    {
     "ename": "ThorlabsException",
     "evalue": "APT: [MOT_MoveHome]: Unknown code: 10111",
     "output_type": "error",
     "traceback": [
      "\u001b[1;31m---------------------------------------------------------------------------\u001b[0m",
      "\u001b[1;31mThorlabsException\u001b[0m                         Traceback (most recent call last)",
      "Cell \u001b[1;32mIn[4], line 2\u001b[0m\n\u001b[0;32m      1\u001b[0m \u001b[38;5;66;03m# Move to zero and recalibrate\u001b[39;00m\n\u001b[1;32m----> 2\u001b[0m \u001b[43minst\u001b[49m\u001b[38;5;241;43m.\u001b[39;49m\u001b[43mmove_home\u001b[49m\u001b[43m(\u001b[49m\u001b[43m)\u001b[49m\n\u001b[0;32m      4\u001b[0m \u001b[38;5;66;03m# Read position\u001b[39;00m\n\u001b[0;32m      5\u001b[0m \u001b[38;5;28mprint\u001b[39m(\u001b[38;5;124m\"\u001b[39m\u001b[38;5;124mPosition:\u001b[39m\u001b[38;5;124m\"\u001b[39m, inst\u001b[38;5;241m.\u001b[39mposition())\n",
      "File \u001b[1;32m~\\AppData\\Local\\Programs\\Python\\Python310\\lib\\site-packages\\qcodes\\parameters\\function.py:155\u001b[0m, in \u001b[0;36mFunction.__call__\u001b[1;34m(self, *args)\u001b[0m\n\u001b[0;32m    153\u001b[0m \u001b[38;5;28;01mdef\u001b[39;00m \u001b[38;5;21m__call__\u001b[39m(\u001b[38;5;28mself\u001b[39m, \u001b[38;5;241m*\u001b[39margs: Any) \u001b[38;5;241m-\u001b[39m\u001b[38;5;241m>\u001b[39m Any:\n\u001b[0;32m    154\u001b[0m     \u001b[38;5;28mself\u001b[39m\u001b[38;5;241m.\u001b[39mvalidate(\u001b[38;5;241m*\u001b[39margs)\n\u001b[1;32m--> 155\u001b[0m     \u001b[38;5;28;01mreturn\u001b[39;00m \u001b[38;5;28;43mself\u001b[39;49m\u001b[38;5;241;43m.\u001b[39;49m\u001b[43m_call\u001b[49m\u001b[43m(\u001b[49m\u001b[38;5;241;43m*\u001b[39;49m\u001b[43margs\u001b[49m\u001b[43m)\u001b[49m\n",
      "File \u001b[1;32m~\\AppData\\Local\\Programs\\Python\\Python310\\lib\\site-packages\\qcodes\\parameters\\command.py:209\u001b[0m, in \u001b[0;36mCommand.__call__\u001b[1;34m(self, *args)\u001b[0m\n\u001b[0;32m    207\u001b[0m \u001b[38;5;28;01mif\u001b[39;00m \u001b[38;5;28mlen\u001b[39m(args) \u001b[38;5;241m!=\u001b[39m \u001b[38;5;28mself\u001b[39m\u001b[38;5;241m.\u001b[39marg_count:\n\u001b[0;32m    208\u001b[0m     \u001b[38;5;28;01mraise\u001b[39;00m \u001b[38;5;167;01mTypeError\u001b[39;00m(\u001b[38;5;124mf\u001b[39m\u001b[38;5;124m\"\u001b[39m\u001b[38;5;124mcommand takes exactly \u001b[39m\u001b[38;5;132;01m{\u001b[39;00m\u001b[38;5;28mself\u001b[39m\u001b[38;5;241m.\u001b[39marg_count\u001b[38;5;132;01m}\u001b[39;00m\u001b[38;5;124m args\u001b[39m\u001b[38;5;124m\"\u001b[39m)\n\u001b[1;32m--> 209\u001b[0m \u001b[38;5;28;01mreturn\u001b[39;00m \u001b[38;5;28;43mself\u001b[39;49m\u001b[38;5;241;43m.\u001b[39;49m\u001b[43mexec_function\u001b[49m\u001b[43m(\u001b[49m\u001b[38;5;241;43m*\u001b[39;49m\u001b[43margs\u001b[49m\u001b[43m)\u001b[49m\n",
      "File \u001b[1;32m~\\AppData\\Local\\Programs\\Python\\Python310\\lib\\site-packages\\qcodes_contrib_drivers\\drivers\\Thorlabs\\K10CR1.py:264\u001b[0m, in \u001b[0;36mThorlabs_K10CR1._move_home\u001b[1;34m(self)\u001b[0m\n\u001b[0;32m    263\u001b[0m \u001b[38;5;28;01mdef\u001b[39;00m \u001b[38;5;21m_move_home\u001b[39m(\u001b[38;5;28mself\u001b[39m):\n\u001b[1;32m--> 264\u001b[0m     \u001b[38;5;28;43mself\u001b[39;49m\u001b[38;5;241;43m.\u001b[39;49m\u001b[43mapt\u001b[49m\u001b[38;5;241;43m.\u001b[39;49m\u001b[43mmot_move_home\u001b[49m\u001b[43m(\u001b[49m\u001b[38;5;28;43mself\u001b[39;49m\u001b[38;5;241;43m.\u001b[39;49m\u001b[43mserial_number\u001b[49m\u001b[43m,\u001b[49m\u001b[43m \u001b[49m\u001b[38;5;28;43;01mTrue\u001b[39;49;00m\u001b[43m)\u001b[49m\n",
      "File \u001b[1;32m~\\AppData\\Local\\Programs\\Python\\Python310\\lib\\site-packages\\qcodes_contrib_drivers\\drivers\\Thorlabs\\APT.py:346\u001b[0m, in \u001b[0;36mThorlabs_APT.mot_move_home\u001b[1;34m(self, serial_number, wait)\u001b[0m\n\u001b[0;32m    343\u001b[0m c_wait \u001b[38;5;241m=\u001b[39m ctypes\u001b[38;5;241m.\u001b[39mc_bool(wait)\n\u001b[0;32m    345\u001b[0m code \u001b[38;5;241m=\u001b[39m \u001b[38;5;28mself\u001b[39m\u001b[38;5;241m.\u001b[39mdll\u001b[38;5;241m.\u001b[39mMOT_MoveHome(c_serial_number, c_wait)\n\u001b[1;32m--> 346\u001b[0m \u001b[38;5;28;43mself\u001b[39;49m\u001b[38;5;241;43m.\u001b[39;49m\u001b[43merror_check\u001b[49m\u001b[43m(\u001b[49m\u001b[43mcode\u001b[49m\u001b[43m,\u001b[49m\u001b[43m \u001b[49m\u001b[38;5;124;43m'\u001b[39;49m\u001b[38;5;124;43mMOT_MoveHome\u001b[39;49m\u001b[38;5;124;43m'\u001b[39;49m\u001b[43m)\u001b[49m\n",
      "File \u001b[1;32m~\\AppData\\Local\\Programs\\Python\\Python310\\lib\\site-packages\\qcodes_contrib_drivers\\drivers\\Thorlabs\\APT.py:65\u001b[0m, in \u001b[0;36mThorlabs_APT.error_check\u001b[1;34m(self, code, function_name)\u001b[0m\n\u001b[0;32m     63\u001b[0m         \u001b[38;5;28mprint\u001b[39m(\u001b[38;5;124m\"\u001b[39m\u001b[38;5;124mAPT: [\u001b[39m\u001b[38;5;132;01m{}\u001b[39;00m\u001b[38;5;124m]: \u001b[39m\u001b[38;5;132;01m{}\u001b[39;00m\u001b[38;5;124m\"\u001b[39m\u001b[38;5;241m.\u001b[39mformat(function_name, \u001b[38;5;124m\"\u001b[39m\u001b[38;5;124mOK - no error\u001b[39m\u001b[38;5;124m\"\u001b[39m))\n\u001b[0;32m     64\u001b[0m \u001b[38;5;28;01melse\u001b[39;00m:\n\u001b[1;32m---> 65\u001b[0m     \u001b[38;5;28;01mraise\u001b[39;00m ThorlabsException(\u001b[38;5;124m\"\u001b[39m\u001b[38;5;124mAPT: [\u001b[39m\u001b[38;5;132;01m{}\u001b[39;00m\u001b[38;5;124m]: Unknown code: \u001b[39m\u001b[38;5;132;01m{}\u001b[39;00m\u001b[38;5;124m\"\u001b[39m\u001b[38;5;241m.\u001b[39mformat(function_name, code))\n",
      "\u001b[1;31mThorlabsException\u001b[0m: APT: [MOT_MoveHome]: Unknown code: 10111"
     ]
    }
   ],
   "source": [
    "# Move to zero and recalibrate\n",
    "inst.move_home()\n",
    "\n",
    "# Read position\n",
    "print(\"Position:\", inst.position())"
   ]
  },
  {
   "cell_type": "code",
   "execution_count": 5,
   "id": "c3e7ed8d",
   "metadata": {},
   "outputs": [
    {
     "name": "stdout",
     "output_type": "stream",
     "text": [
      "Enter the exposure time in microseconds: 100\n"
     ]
    }
   ],
   "source": [
    "spec = Spectrometer(devices[0])\n",
    "# Set the exposure time \n",
    "exposure_time_micros = float(input(\"Enter the exposure time in microseconds: \"))\n",
    "spec.integration_time_micros(exposure_time_micros)"
   ]
  },
  {
   "cell_type": "markdown",
   "id": "b8ea169d",
   "metadata": {},
   "source": [
    "# Without Accumulation."
   ]
  },
  {
   "cell_type": "code",
   "execution_count": 6,
   "id": "e1d87657",
   "metadata": {},
   "outputs": [
    {
     "name": "stdout",
     "output_type": "stream",
     "text": [
      "Position: 155.0\n"
     ]
    },
    {
     "data": {
      "image/png": "[encoded data removed]",
      "text/plain": [
       "<Figure size 432x288 with 1 Axes>"
      ]
     },
     "metadata": {
      "needs_background": "light"
     },
     "output_type": "display_data"
    }
   ],
   "source": [
    "import time\n",
    "import matplotlib.pyplot as plt\n",
    "import csv\n",
    "\n",
    "# Set target velocity to 10 deg/s\n",
    "inst.velocity_max(10)\n",
    "\n",
    "# Move to a specific angle and wait until it's finished\n",
    "inst.position(155)\n",
    "# Read position\n",
    "print(\"Position:\", inst.position())\n",
    "time.sleep(0.5)\n",
    "# Consider settling time to account for backlash from the motor\n",
    "\n",
    "# Get wavelengths and intensities from the spectrometer\n",
    "wavelengths = spec.wavelengths()\n",
    "intensities = spec.intensities()\n",
    "\n",
    "# Create a CSV file and write the data\n",
    "csv_filename = 'spectrometer_data.csv'\n",
    "with open(csv_filename, 'w', newline='') as csvfile:\n",
    "    csv_writer = csv.writer(csvfile)\n",
    "    csv_writer.writerow(['Wavelength (nm)', 'Intensity (nm)'])  # Write header\n",
    "    for wavelength, intensity in zip(wavelengths, intensities):\n",
    "        csv_writer.writerow([wavelength, intensity])\n",
    "\n",
    "# Plot the data\n",
    "fig = plt.figure()\n",
    "ax = fig.add_subplot(111)\n",
    "ax.plot(wavelengths, intensities)\n",
    "\n",
    "# Label the x and y axes\n",
    "ax.set_xlabel('Wavelength (nm)')\n",
    "ax.set_ylabel('Intensity (nm)')\n",
    "\n",
    "plt.show()\n",
    "time.sleep(1.0)"
   ]
  },
  {
   "cell_type": "markdown",
   "id": "9e87b8f9",
   "metadata": {},
   "source": [
    "# With Accumulation"
   ]
  },
  {
   "cell_type": "code",
   "execution_count": 7,
   "id": "db7f2500",
   "metadata": {
    "scrolled": true
   },
   "outputs": [
    {
     "name": "stdout",
     "output_type": "stream",
     "text": [
      "Position: 155.0\n"
     ]
    },
    {
     "data": {
      "image/png": "[encoded data removed]",
      "text/plain": [
       "<Figure size 432x288 with 1 Axes>"
      ]
     },
     "metadata": {
      "needs_background": "light"
     },
     "output_type": "display_data"
    }
   ],
   "source": [
    "# Set target velocity to 10 deg/s\n",
    "inst.velocity_max(10)\n",
    "\n",
    "# Move to specific angle and wait until it's finished\n",
    "inst.position(155)\n",
    "# Read position\n",
    "print(\"Position:\", inst.position())\n",
    "time.sleep(0.5)\n",
    "#careful the backlash from the motor, need settling tim\n",
    "\n",
    "fig = plt.figure()\n",
    "ax = fig.add_subplot(111)\n",
    "\n",
    "# Define the number of accumulations\n",
    "num_accumulations = 5  \n",
    "\n",
    "# Initialize lists to store wavelengths and intensities\n",
    "wavelengths = []\n",
    "intensity_sum = np.zeros(len(spec.wavelengths()))  # Initialize intensity_sum with zeros\n",
    "\n",
    "# Perform accumulation\n",
    "for _ in range(num_accumulations):\n",
    "    # Get wavelengths and intensities from data (assuming they are in nanometers)\n",
    "    current_wavelengths = spec.wavelengths()\n",
    "    current_intensities = spec.intensities()\n",
    "    \n",
    "    \n",
    "    # Accumulate intensities\n",
    "    intensity_sum += current_intensities\n",
    "\n",
    "# Calculate the average intensity\n",
    "average_intensity = intensity_sum / num_accumulations\n",
    "\n",
    "# Plot the average accumulation\n",
    "ax.plot(current_wavelengths, average_intensity)\n",
    "\n",
    "# Label the x and y axes\n",
    "ax.set_xlabel('Wavelength (nm)')\n",
    "ax.set_ylabel('Intensity (nm)')\n",
    "time.sleep(1.0)"
   ]
  },
  {
   "cell_type": "markdown",
   "id": "61099c94",
   "metadata": {},
   "source": [
    "#  ACCUMULATION DATA SAVING SINGLE RUN"
   ]
  },
  {
   "cell_type": "code",
   "execution_count": 7,
   "id": "ddfafc01",
   "metadata": {},
   "outputs": [
    {
     "name": "stdout",
     "output_type": "stream",
     "text": [
      "Position: 155.0\n"
     ]
    },
    {
     "data": {
      "image/png": "[encoded data removed]",
      "text/plain": [
       "<Figure size 432x288 with 1 Axes>"
      ]
     },
     "metadata": {
      "needs_background": "light"
     },
     "output_type": "display_data"
    }
   ],
   "source": [
    "import time\n",
    "import matplotlib.pyplot as plt\n",
    "import csv\n",
    "\n",
    "# Set target velocity to 10 deg/s\n",
    "inst.velocity_max(10)\n",
    "\n",
    "# Move to a specific angle and wait until it's finished\n",
    "inst.position(155)\n",
    "# Read position\n",
    "print(\"Position:\", inst.position())\n",
    "time.sleep(0.5)\n",
    "# Consider settling time to account for backlash from the motor\n",
    "\n",
    "fig = plt.figure()\n",
    "ax = fig.add_subplot(111)\n",
    "\n",
    "# Define the number of accumulations\n",
    "num_accumulations = 5\n",
    "\n",
    "# Initialize lists to store wavelengths and intensities\n",
    "wavelengths = []\n",
    "intensities = [[] for _ in range(num_accumulations)]\n",
    "\n",
    "# Perform accumulation\n",
    "for i in range(num_accumulations):\n",
    "    # Get wavelengths and intensities from data (assuming they are in nanometers)\n",
    "    current_wavelengths = spec.wavelengths()\n",
    "    current_intensities = spec.intensities()\n",
    "\n",
    "    # Append the current wavelengths and intensities to the lists\n",
    "    wavelengths.extend(current_wavelengths)\n",
    "    intensities[i] = current_intensities\n",
    "\n",
    "# Save the data to a CSV file\n",
    "csv_filename = 'test.csv'\n",
    "with open(csv_filename, 'w', newline='') as csvfile:\n",
    "    csv_writer = csv.writer(csvfile)\n",
    "    header = ['Wavelength (nm'] + [f'Intensity AC {i + 1}' for i in range(num_accumulations)]\n",
    "    csv_writer.writerow(header)  # Write header\n",
    "\n",
    "    for row in zip(wavelengths, *intensities):\n",
    "        csv_writer.writerow(row)\n",
    "\n",
    "# Plot the accumulation\n",
    "# Plot only a subset of the data, e.g., the first accumulation\n",
    "ax.plot(wavelengths[:len(current_wavelengths)], intensities[0])\n",
    "\n",
    "# Label the x and y axes\n",
    "ax.set_xlabel('Wavelength (nm)')\n",
    "ax.set_ylabel('Intensity (nm)')\n",
    "\n",
    "plt.show()\n",
    "time.sleep(1.0)\n"
   ]
  },
  {
   "cell_type": "code",
   "execution_count": null,
   "id": "13d0937d",
   "metadata": {
    "scrolled": true
   },
   "outputs": [
    {
     "name": "stdout",
     "output_type": "stream",
     "text": [
      "Enter the initial angle in degrees: 0\n",
      "Enter the step size in degrees: 10\n",
      "Enter the final angle in degrees: 30\n",
      "Enter number of accumulation: 5\n",
      "Enter integration time in microseconds: 100\n",
      "Position: 0.0 degrees at angle: 0.0 degrees\n"
     ]
    },
    {
     "data": {
      "image/png": "[encoded data removed]",
      "text/plain": [
       "<Figure size 432x288 with 1 Axes>"
      ]
     },
     "metadata": {
      "needs_background": "light"
     },
     "output_type": "display_data"
    },
    {
     "name": "stdout",
     "output_type": "stream",
     "text": [
      "Position: 9.99999713897705 degrees at angle: 10.0 degrees\n"
     ]
    }
   ],
   "source": [
    "# Define the initial angle, step size, and final angle\n",
    "# Input for initial angle, step size, and final angle\n",
    "initial_angle = float(input(\"Enter the initial angle in degrees: \"))\n",
    "step_size = float(input(\"Enter the step size in degrees: \"))\n",
    "final_angle = float(input(\"Enter the final angle in degrees: \"))\n",
    "\n",
    "# Define the number of accumulations and integration time\n",
    "num_accumulations = int(input(\"Enter number of accumulation: \"))\n",
    "exposure_time_micros = float(input(\"Enter integration time in microseconds: \"))\n",
    "\n",
    "# Set the time delay (in seconds)\n",
    "delay_seconds = 5\n",
    "\n",
    "# Set target velocity to 10 deg/s\n",
    "inst.velocity_max(10)\n",
    "\n",
    "# Initialize the current angle to the initial angle\n",
    "current_angle = initial_angle\n",
    "\n",
    "# Loop to move the position\n",
    "while current_angle <= final_angle:\n",
    "    # Move to the current angle and wait until it's finished\n",
    "    inst.position(current_angle)\n",
    "    \n",
    "    # Read and print the current position\n",
    "    current_position = inst.position()\n",
    "    time.sleep(0.5)  # Pause the execution for 0.5 seconds\n",
    "    print(f\"Position: {current_position} degrees at angle: {current_angle} degrees\")\n",
    "    \n",
    "    time.sleep(delay_seconds)  # Pause the execution for delay_seconds\n",
    "    \n",
    "    # Dynamically generate the CSV filename based on the current angle\n",
    "    current_csv_filename = f'angle_{current_angle}_integrationtime_{exposure_time_micros}_acc_{num_accumulations}.csv'\n",
    "    \n",
    "    # Take reading on spectrometer \n",
    "    perform_accumulation(spec, num_accumulations, exposure_time_micros,current_csv_filename)    \n",
    "    \n",
    "    # Increment the current angle by the step size\n",
    "    current_angle += step_size\n",
    "    \n",
    "# Ensure that the final angle is reached\n",
    "inst.position(final_angle)\n",
    "\n",
    "# Read and print the final position\n",
    "final_position = inst.position()\n",
    "print(f\"Final Position: {final_position} degrees\")\n"
   ]
  },
  {
   "cell_type": "markdown",
   "id": "2c3df785",
   "metadata": {},
   "source": [
    "# Without CSV "
   ]
  },
  {
   "cell_type": "code",
   "execution_count": 8,
   "id": "ff8a480e",
   "metadata": {},
   "outputs": [],
   "source": [
    "def perform_accumulation(spec, num_accumulations, exposure_time_micros):\n",
    "    # Set integration time\n",
    "    spec.integration_time_micros(exposure_time_micros)\n",
    "\n",
    "    # Initialize lists to store wavelengths and intensities\n",
    "    wavelengths = []\n",
    "    intensities = [[] for _ in range(num_accumulations)]\n",
    "\n",
    "    # Perform accumulation\n",
    "    for _ in range(num_accumulations):\n",
    "        # Get wavelengths and intensities from data (assuming they are in nanometers)\n",
    "        current_wavelengths = spec.wavelengths()\n",
    "        current_intensities = spec.intensities()\n",
    "        \n",
    "        # Accumulate intensities\n",
    "        intensity_sum += current_intensities\n",
    "\n",
    "    # Calculate the average intensity\n",
    "    average_intensity = intensity_sum / num_accumulations\n",
    "\n",
    "    # Plot the average accumulation\n",
    "    fig = plt.figure()\n",
    "    ax = fig.add_subplot(111)\n",
    "    ax.plot(current_wavelengths, average_intensity)\n",
    "\n",
    "    # Label the x and y axes\n",
    "    ax.set_xlabel('Wavelength (nm)')\n",
    "    ax.set_ylabel('Intensity')\n",
    "\n",
    "    plt.show()\n",
    "    time.sleep(1.0)\n"
   ]
  },
  {
   "cell_type": "markdown",
   "id": "a8bd5cb3",
   "metadata": {},
   "source": [
    "# WITH CSV"
   ]
  },
  {
   "cell_type": "code",
   "execution_count": 5,
   "id": "25c111fc",
   "metadata": {},
   "outputs": [],
   "source": [
    "def perform_accumulation(spec, num_accumulations, exposure_time_micros, output_csv_filename):\n",
    "    # Set integration time\n",
    "    spec.integration_time_micros(exposure_time_micros)\n",
    "\n",
    "    # Initialize lists to store wavelengths and intensities\n",
    "    wavelengths = []\n",
    "    intensities = [[] for _ in range(num_accumulations)]  # Initialize intensity_sum with zeros\n",
    "\n",
    "    # Perform accumulation\n",
    "    for i in range(num_accumulations):\n",
    "        # Get wavelengths and intensities from data (assuming they are in nanometers)\n",
    "        current_wavelengths = spec.wavelengths()\n",
    "        current_intensities = spec.intensities()\n",
    "\n",
    "        # Append the current wavelengths and intensities to the lists\n",
    "        wavelengths.extend(current_wavelengths)\n",
    "        intensities[i] = current_intensities\n",
    "        \n",
    "    # Create the \"data\" folder if it doesn't exist\n",
    "    data_folder = 'data'\n",
    "    if not os.path.exists(data_folder):\n",
    "        os.makedirs(data_folder)\n",
    "\n",
    "    # Save the data to a CSV file in the \"data\" folder\n",
    "    output_csv_filepath = os.path.join(data_folder, output_csv_filename)\n",
    "    \n",
    "    # Save the data to a CSV file\n",
    "    with open(output_csv_filepath, 'w', newline='') as csvfile:\n",
    "        csv_writer = csv.writer(csvfile)\n",
    "        header = ['Wavelength (nm'] + [f'Intensity AC {i + 1}' for i in range(num_accumulations)]\n",
    "        csv_writer.writerow(header)  # Write header\n",
    "\n",
    "        for row in zip(wavelengths, *intensities):\n",
    "            csv_writer.writerow(row)\n",
    "\n",
    "    # Plot the average accumulation\n",
    "    fig = plt.figure()\n",
    "    ax = fig.add_subplot(111)\n",
    "    ax.plot(wavelengths[:len(current_wavelengths)], intensities[0])\n",
    "\n",
    "    # Label the x and y axes\n",
    "    ax.set_xlabel('Wavelength (nm)')\n",
    "    ax.set_ylabel('Intensity')\n",
    "\n",
    "    plt.show()\n",
    "    time.sleep(1.0)\n"
   ]
  },
  {
   "cell_type": "code",
   "execution_count": null,
   "id": "09dd1596",
   "metadata": {},
   "outputs": [],
   "source": []
  }
 ],
 "metadata": {
  "kernelspec": {
   "display_name": "Python 3 (ipykernel)",
   "language": "python",
   "name": "python3"
  },
  "language_info": {
   "codemirror_mode": {
    "name": "ipython",
    "version": 3
   },
   "file_extension": ".py",
   "mimetype": "text/x-python",
   "name": "python",
   "nbconvert_exporter": "python",
   "pygments_lexer": "ipython3",
   "version": "3.10.4"
  }
 },
 "nbformat": 4,
 "nbformat_minor": 5
}
